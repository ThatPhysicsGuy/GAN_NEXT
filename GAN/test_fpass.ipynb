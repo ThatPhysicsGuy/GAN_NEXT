{
 "cells": [
  {
   "cell_type": "code",
   "execution_count": 9,
   "id": "a1157390",
   "metadata": {},
   "outputs": [],
   "source": [
    "from src.simulators.WF_sim import simulate_waveforms\n",
    "import sys,os\n",
    "sys.path.insert(0,'/Users/mxd6118/Desktop/DiffSim')\n",
    "import pandas as pd\n",
    "import pickle\n",
    "from jax import random, device_put\n",
    "import time\n",
    "from jax.example_libraries import stax\n",
    "from jax import jit,vmap, grad\n",
    "import numpy as np\n",
    "import jax.numpy as jnp\n",
    "import jax\n",
    "import sklearn\n",
    "from jax.example_libraries import optimizers as jax_opt\n",
    "\n",
    "import matplotlib.pyplot as plt\n",
    "\n",
    "key = random.PRNGKey(int(time.time()))\n",
    "        \n",
    "key, subkey = random.split(key)"
   ]
  },
  {
   "cell_type": "code",
   "execution_count": 10,
   "id": "fbae2b21",
   "metadata": {},
   "outputs": [],
   "source": [
    "def build_dataloader(number_of_events):\n",
    "    sys.path.insert(0,'/Users/mxd6118/Desktop/DiffSim/src/utils')\n",
    "    from dataloaders.krypton_DATES_CUSTOM_DROPOUT import krypton\n",
    "    # Load the sipm database:\n",
    "    sipm_db = pd.read_pickle(\"/Users/mxd6118/Desktop/DiffSim/database/new_sipm.pkl\")\n",
    "\n",
    "    dl = krypton(\n",
    "        batch_size  = number_of_events,\n",
    "        db          = sipm_db,\n",
    "        path        = \"/Users/mxd6118/Desktop/DiffSim/kdst\",\n",
    "        run         = 8530,\n",
    "        shuffle = True,\n",
    "        drop = 0,\n",
    "        z_slice = 0,\n",
    "        )\n",
    "\n",
    "    return dl\n",
    "\n",
    "def load_state(file):\n",
    "    with open(file,\"rb\") as f:\n",
    "        params = pickle.load(f)\n",
    "    return params\n",
    "    \n",
    "params_dir = '/Users/mxd6118/Desktop/GAN/src/simulators/'\n",
    "params_path = os.path.join(params_dir ,\"trained_params.pickle\")\n"
   ]
  },
  {
   "cell_type": "code",
   "execution_count": 11,
   "id": "e9847cb8",
   "metadata": {},
   "outputs": [],
   "source": [
    "def init_params(sim_params,subkey):\n",
    "    \n",
    "    dis_init, dis_apply = stax.serial(\n",
    "        stax.Flatten,\n",
    "        stax.Dense(128),stax.Sigmoid,\n",
    "        stax.Dense(16), stax.Sigmoid,\n",
    "        stax.Dense(2),stax.Softmax\n",
    "    )\n",
    "\n",
    "\n",
    "    dis_out_size, dis_network_params = dis_init(subkey,(1,47,47))\n",
    "\n",
    "    parameters = {\n",
    "    'D_parameters': dis_network_params,\n",
    "    'S_parameters': sim_params,\n",
    "    }\n",
    "\n",
    "    return parameters, dis_apply\n",
    "\n",
    "\n",
    "def binary_cross_entropy(y_true, y_pred):\n",
    "    epsilon = 1e-8 # Small value to avoid division by zero\n",
    "    y_pred = jnp.clip(y_pred, epsilon, 1.0 - epsilon)  # Clip values to prevent NaNs\n",
    "    loss = -(y_true * jnp.log(y_pred) + (1 - y_true) * jnp.log(1 - y_pred))\n",
    "    return jnp.mean(loss)"
   ]
  },
  {
   "cell_type": "code",
   "execution_count": 12,
   "id": "0c68ddaa",
   "metadata": {},
   "outputs": [],
   "source": [
    "@jit\n",
    "def gen_noise_constant(sipm_waveforms,subkey):\n",
    "\n",
    "    noise_constant = random.uniform(subkey,shape = sipm_waveforms.shape,minval = -0.5, maxval = 1)\n",
    "    #noise_constant = random.poisson(subkey,shape = sipm_waveforms.shape,lam = 0.05)\n",
    "    #noise_constant = random.beta(subkey,shape = sipm_waveforms.shape,a = 2, b = 5)\n",
    "\n",
    "    return noise_constant\n",
    "xy_gen_noise_constant = jit(vmap(gen_noise_constant,in_axes=[0,None]))\n",
    "event_gen_noise_constant = jit(vmap(xy_gen_noise_constant,in_axes=[0,None]))\n",
    "batch_gen_noise_constant = jit(vmap(event_gen_noise_constant,in_axes=[0,None]))\n"
   ]
  },
  {
   "cell_type": "code",
   "execution_count": 13,
   "id": "95e4f431",
   "metadata": {},
   "outputs": [],
   "source": [
    "dataloader = build_dataloader(10)\n",
    "batch = next(dataloader.iterate())\n",
    "\n",
    "sim_params = load_state(params_path)\n",
    "\n",
    "parameters, dis_apply = init_params(sim_params,subkey)"
   ]
  },
  {
   "cell_type": "code",
   "execution_count": 140,
   "id": "1e9c3df8",
   "metadata": {
    "scrolled": true
   },
   "outputs": [],
   "source": [
    "import matplotlib.pyplot as plt\n",
    "import sklearn\n",
    "\n",
    "@jit\n",
    "def forward_pass(batch, parameters,key):\n",
    "    \n",
    "    noise = batch_gen_noise_constant(batch['S2Si'],subkey)\n",
    "\n",
    "    simulated_pmts, simulated_sipms = simulate_waveforms(batch['energy_deposits'],\n",
    "                                                         parameters['S_parameters'], noise, key)\n",
    "\n",
    "    \n",
    "    \n",
    "    ### try to fix the number of pics per event ###\n",
    "    \n",
    "    reshaped_arr = simulated_sipms.reshape(simulated_sipms.shape[0] * 550, 47, 47)\n",
    "\n",
    "    # Now you have the desired shape, and you can perform matmul if needed\n",
    "    # For example, let's create a random matrix B of shape (47, 47)\n",
    "    B = jnp.ones((47, 47))\n",
    "\n",
    "    # Perform matmul\n",
    "    result = jnp.matmul(reshaped_arr, B)\n",
    "    \n",
    "    \n",
    "    \n",
    "    print(result.shape)\n",
    "    \n",
    "    #fake_labels = dis_apply(parameters['D_parameters'],filtered_full_batch['Train'])\n",
    "\n",
    "    #print(f'Fake labels {fake_labels.shape}',flush = True)\n",
    "    #print(f'Real labels {batch[\"Labels\"].shape}',flush = True)\n",
    "\n",
    "    #loss_dis = binary_cross_entropy(filtered_full_batch['Labels'],fake_labels)\n",
    "\n",
    "    return #loss_dis\n",
    "\n",
    "\n",
    "\n",
    "gradient_fn = jit(jax.value_and_grad(forward_pass, argnums=1,has_aux=False))\n",
    "\n",
    "opt_init, opt_update, get_params = jax_opt.adamax(1e-3)\n",
    "\n",
    "opt_state = opt_init(parameters)\n",
    "\n",
    "    \n",
    "    \n",
    "    "
   ]
  },
  {
   "cell_type": "code",
   "execution_count": 141,
   "id": "0dd52c45",
   "metadata": {
    "scrolled": true
   },
   "outputs": [
    {
     "name": "stdout",
     "output_type": "stream",
     "text": [
      "(5500, 47, 47)\n"
     ]
    },
    {
     "ename": "TypeError",
     "evalue": "Gradient only defined for scalar-output functions. Output was None.",
     "output_type": "error",
     "traceback": [
      "\u001b[0;31m---------------------------------------------------------------------------\u001b[0m",
      "\u001b[0;31mTypeError\u001b[0m                                 Traceback (most recent call last)",
      "    \u001b[0;31m[... skipping hidden 1 frame]\u001b[0m\n",
      "File \u001b[0;32m/opt/homebrew/lib/python3.10/site-packages/jax/_src/core.py:1334\u001b[0m, in \u001b[0;36mget_aval\u001b[0;34m(x)\u001b[0m\n\u001b[1;32m   1333\u001b[0m \u001b[38;5;28;01melse\u001b[39;00m:\n\u001b[0;32m-> 1334\u001b[0m   \u001b[38;5;28;01mreturn\u001b[39;00m \u001b[43mconcrete_aval\u001b[49m\u001b[43m(\u001b[49m\u001b[43mx\u001b[49m\u001b[43m)\u001b[49m\n",
      "File \u001b[0;32m/opt/homebrew/lib/python3.10/site-packages/jax/_src/core.py:1326\u001b[0m, in \u001b[0;36mconcrete_aval\u001b[0;34m(x)\u001b[0m\n\u001b[1;32m   1325\u001b[0m   \u001b[38;5;28;01mreturn\u001b[39;00m concrete_aval(x\u001b[38;5;241m.\u001b[39m__jax_array__())\n\u001b[0;32m-> 1326\u001b[0m \u001b[38;5;28;01mraise\u001b[39;00m \u001b[38;5;167;01mTypeError\u001b[39;00m(\u001b[38;5;124mf\u001b[39m\u001b[38;5;124m\"\u001b[39m\u001b[38;5;124mValue \u001b[39m\u001b[38;5;132;01m{\u001b[39;00m\u001b[38;5;28mrepr\u001b[39m(x)\u001b[38;5;132;01m}\u001b[39;00m\u001b[38;5;124m with type \u001b[39m\u001b[38;5;132;01m{\u001b[39;00m\u001b[38;5;28mtype\u001b[39m(x)\u001b[38;5;132;01m}\u001b[39;00m\u001b[38;5;124m is not a valid JAX \u001b[39m\u001b[38;5;124m\"\u001b[39m\n\u001b[1;32m   1327\u001b[0m                  \u001b[38;5;124m\"\u001b[39m\u001b[38;5;124mtype\u001b[39m\u001b[38;5;124m\"\u001b[39m)\n",
      "\u001b[0;31mTypeError\u001b[0m: Value None with type <class 'NoneType'> is not a valid JAX type",
      "\nThe above exception was the direct cause of the following exception:\n",
      "\u001b[0;31mTypeError\u001b[0m                                 Traceback (most recent call last)",
      "Cell \u001b[0;32mIn[141], line 13\u001b[0m\n\u001b[1;32m      9\u001b[0m key \u001b[38;5;241m=\u001b[39m random\u001b[38;5;241m.\u001b[39mPRNGKey(\u001b[38;5;28mint\u001b[39m(time\u001b[38;5;241m.\u001b[39mtime()))\n\u001b[1;32m     11\u001b[0m key, subkey \u001b[38;5;241m=\u001b[39m jax\u001b[38;5;241m.\u001b[39mrandom\u001b[38;5;241m.\u001b[39msplit(key)\n\u001b[0;32m---> 13\u001b[0m loss, gradients \u001b[38;5;241m=\u001b[39m \u001b[43mgradient_fn\u001b[49m\u001b[43m(\u001b[49m\u001b[43mbatch\u001b[49m\u001b[43m,\u001b[49m\u001b[43m \u001b[49m\u001b[43mparameters\u001b[49m\u001b[43m,\u001b[49m\u001b[43m \u001b[49m\u001b[43msubkey\u001b[49m\u001b[43m)\u001b[49m\n\u001b[1;32m     15\u001b[0m \u001b[38;5;66;03m#print(gradients['Dis_parameters'])\u001b[39;00m\n\u001b[1;32m     17\u001b[0m opt_state \u001b[38;5;241m=\u001b[39m opt_update(c, gradients, opt_state)\n",
      "    \u001b[0;31m[... skipping hidden 14 frame]\u001b[0m\n",
      "File \u001b[0;32m/opt/homebrew/lib/python3.10/site-packages/jax/_src/api.py:738\u001b[0m, in \u001b[0;36m_check_scalar\u001b[0;34m(x)\u001b[0m\n\u001b[1;32m    736\u001b[0m   aval \u001b[38;5;241m=\u001b[39m core\u001b[38;5;241m.\u001b[39mget_aval(x)\n\u001b[1;32m    737\u001b[0m \u001b[38;5;28;01mexcept\u001b[39;00m \u001b[38;5;167;01mTypeError\u001b[39;00m \u001b[38;5;28;01mas\u001b[39;00m e:\n\u001b[0;32m--> 738\u001b[0m   \u001b[38;5;28;01mraise\u001b[39;00m \u001b[38;5;167;01mTypeError\u001b[39;00m(msg(\u001b[38;5;124mf\u001b[39m\u001b[38;5;124m\"\u001b[39m\u001b[38;5;124mwas \u001b[39m\u001b[38;5;132;01m{\u001b[39;00mx\u001b[38;5;132;01m}\u001b[39;00m\u001b[38;5;124m\"\u001b[39m)) \u001b[38;5;28;01mfrom\u001b[39;00m \u001b[38;5;21;01me\u001b[39;00m\n\u001b[1;32m    739\u001b[0m \u001b[38;5;28;01melse\u001b[39;00m:\n\u001b[1;32m    740\u001b[0m   \u001b[38;5;28;01mif\u001b[39;00m \u001b[38;5;28misinstance\u001b[39m(aval, ShapedArray):\n",
      "\u001b[0;31mTypeError\u001b[0m: Gradient only defined for scalar-output functions. Output was None."
     ]
    }
   ],
   "source": [
    "for c in range(0,10):\n",
    "\n",
    "    metrics = {}\n",
    "\n",
    "    parameters = get_params(opt_state)\n",
    "\n",
    "    #print(self.parameters,flush = True)\n",
    "\n",
    "    key = random.PRNGKey(int(time.time()))\n",
    "\n",
    "    key, subkey = jax.random.split(key)\n",
    "\n",
    "    loss, gradients = gradient_fn(batch, parameters, subkey)\n",
    "\n",
    "    #print(gradients['Dis_parameters'])\n",
    "\n",
    "    opt_state = opt_update(c, gradients, opt_state)\n",
    "\n",
    "    # # Combine losses\n",
    "\n",
    "    metrics['loss/loss'] = loss\n",
    "\n",
    "    metrics.update(parameters)\n"
   ]
  },
  {
   "cell_type": "code",
   "execution_count": 199,
   "id": "e7aeebc3",
   "metadata": {},
   "outputs": [
    {
     "data": {
      "text/plain": [
       "(10, 2209)"
      ]
     },
     "execution_count": 199,
     "metadata": {},
     "output_type": "execute_result"
    }
   ],
   "source": [
    "simulated_pmts, simulated_sipms = simulate_waveforms(batch['energy_deposits'],\n",
    "                                                         parameters['S_parameters'], noise, key)\n",
    "\n",
    "    \n",
    "    \n",
    "### try to fix the number of pics per event ###\n",
    "test =[]\n",
    "\n",
    "flatten = simulated_sipms.reshape(10,2209,550)\n",
    "\n",
    "jnp.sum(flatten,axis = 2).shape\n",
    "\n",
    "#for i in range(0,result.shape[0]):\n",
    "#   plt.imshow(result[0])\n",
    "#   plt.show()"
   ]
  },
  {
   "cell_type": "code",
   "execution_count": null,
   "id": "ea04b57b",
   "metadata": {},
   "outputs": [],
   "source": []
  },
  {
   "cell_type": "code",
   "execution_count": null,
   "id": "13d0eb9c",
   "metadata": {},
   "outputs": [],
   "source": []
  }
 ],
 "metadata": {
  "kernelspec": {
   "display_name": "Python 3 (ipykernel)",
   "language": "python",
   "name": "python3"
  },
  "language_info": {
   "codemirror_mode": {
    "name": "ipython",
    "version": 3
   },
   "file_extension": ".py",
   "mimetype": "text/x-python",
   "name": "python",
   "nbconvert_exporter": "python",
   "pygments_lexer": "ipython3",
   "version": "3.10.8"
  }
 },
 "nbformat": 4,
 "nbformat_minor": 5
}
