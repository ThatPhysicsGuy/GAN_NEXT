{
 "cells": [
  {
   "cell_type": "code",
   "execution_count": 1,
   "id": "967dd284",
   "metadata": {},
   "outputs": [],
   "source": [
    "import numpy as np\n",
    "import matplotlib.pyplot as plt"
   ]
  },
  {
   "cell_type": "code",
   "execution_count": 8,
   "id": "1bfffafd",
   "metadata": {},
   "outputs": [],
   "source": [
    "def binary_cross_entropy(y_true, y_pred):\n",
    "    \n",
    "    epsilon = 1e-8 # Small value to avoid division by zero\n",
    "    y_pred = np.clip(y_pred, epsilon, 1.0 - epsilon)  # Clip values to prevent NaNs\n",
    "    loss = -(y_true * np.log(y_pred) + (1 - y_true) * np.log(1 - y_pred))\n",
    "    return np.mean(loss)\n",
    "    \n",
    "def gen_loss(y_true,y_pred):\n",
    "    epsilon = 1e-8 # Small value to avoid division by zero\n",
    "    y_pred = np.clip(y_pred, epsilon, 1.0 - epsilon)  # Clip values to prevent NaNs\n",
    "    loss = - (y_true) * np.log(1-y_pred)  # Categorical cross-entropy\n",
    "    return np.mean(loss)\n",
    "\n",
    "def binary_cross_entropy_sim(y_true, y_pred):\n",
    "    \n",
    "    epsilon = 1e-8 # Small value to avoid division by zero\n",
    "    y_pred = np.clip(y_pred, epsilon, 1.0 - epsilon)  # Clip values to prevent NaNs\n",
    "    loss = (y_true * np.log(y_pred) + (1 - y_true) * np.log(1 - y_pred))\n",
    "    return np.mean(loss)"
   ]
  },
  {
   "cell_type": "code",
   "execution_count": 3,
   "id": "97a9fa16",
   "metadata": {},
   "outputs": [],
   "source": [
    "true = np.array(([0,1]))\n",
    "\n",
    "\n",
    "fake = np.array(([0.99,0.01]))"
   ]
  },
  {
   "cell_type": "code",
   "execution_count": 9,
   "id": "6818301a",
   "metadata": {},
   "outputs": [
    {
     "data": {
      "text/plain": [
       "Text(0, 0.5, 'Loss')"
      ]
     },
     "execution_count": 9,
     "metadata": {},
     "output_type": "execute_result"
    },
    {
     "data": {
      "image/png": "[encoded data removed]",
      "text/plain": [
       "<Figure size 640x480 with 1 Axes>"
      ]
     },
     "metadata": {},
     "output_type": "display_data"
    }
   ],
   "source": [
    "loss_sim = [] \n",
    "loss_class = []\n",
    "for i in range(0,100):\n",
    "    fake = [1-np.linspace(0,1,100)[i],0+np.linspace(0,1,100)[i]]\n",
    "    \n",
    "    loss_sim.append(binary_cross_entropy_sim(true,fake))\n",
    "    loss_class.append(binary_cross_entropy(true,fake))\n",
    "    #plt.plot(range(0,100)[:i],binary_cross_entropy(true,fake))\n",
    "    \n",
    "plt.plot(np.linspace(1e-8,1,100),loss_sim,label = 'Sim loss')\n",
    "plt.plot(np.linspace(1e-8,1,100),loss_class,label = 'Class loss')\n",
    "plt.legend(loc=(0.5,0.8))\n",
    "plt.ylim(0,10)\n",
    "plt.xlabel(\"Similarity % between real/fake\")\n",
    "plt.ylabel(\"Loss\")"
   ]
  },
  {
   "cell_type": "code",
   "execution_count": 5,
   "id": "4b9eedcc",
   "metadata": {},
   "outputs": [
    {
     "data": {
      "text/plain": [
       "(array([61]),)"
      ]
     },
     "execution_count": 5,
     "metadata": {},
     "output_type": "execute_result"
    }
   ],
   "source": [
    "np.where(np.logical_and((np.array(loss_class) - np.array(loss_sim)) > 0, \n",
    "                       (np.array(loss_class) - np.array(loss_sim)) < 1e-2))"
   ]
  },
  {
   "cell_type": "code",
   "execution_count": 10,
   "id": "e119036e",
   "metadata": {},
   "outputs": [
    {
     "data": {
      "text/plain": [
       "[-18.420680741439988,\n",
       " -4.5951198501345925,\n",
       " -3.901972669574644,\n",
       " -3.4965075614664807,\n",
       " -3.208825489014699,\n",
       " -2.9856819377004893,\n",
       " -2.8033603809065353,\n",
       " -2.6492097010792763,\n",
       " -2.5156783084547545,\n",
       " -2.3978952727983707,\n",
       " -2.2925347571405443,\n",
       " -2.197224577336219,\n",
       " -2.1102132003465894,\n",
       " -2.0301704926730535,\n",
       " -1.9560625205193312,\n",
       " -1.8870696490323797,\n",
       " -1.8225311278948086,\n",
       " -1.7619065060783736,\n",
       " -1.704748092238425,\n",
       " -1.6506808709681493,\n",
       " -1.599387576580599,\n",
       " -1.5505974124111668,\n",
       " -1.5040773967762742,\n",
       " -1.4596256342054401,\n",
       " -1.4170660197866443,\n",
       " -1.376244025266389,\n",
       " -1.3370233121131079,\n",
       " -1.2992829841302607,\n",
       " -1.2629153399593858,\n",
       " -1.2278240201481159,\n",
       " -1.1939224684724348,\n",
       " -1.1611326456494435,\n",
       " -1.1293839473348632,\n",
       " -1.0986122886681096,\n",
       " -1.0687593255184287,\n",
       " -1.039771788645176,\n",
       " -1.0116009116784799,\n",
       " -0.9842019374903654,\n",
       " -0.9575336904082041,\n",
       " -0.9315582040049433,\n",
       " -0.9062403960206535,\n",
       " -0.8815477834302821,\n",
       " -0.8574502318512216,\n",
       " -0.8339197344410274,\n",
       " -0.8109302162163288,\n",
       " -0.78845736036427,\n",
       " -0.7664784536454947,\n",
       " -0.7449722484245312,\n",
       " -0.723918839226699,\n",
       " -0.7032995520239632,\n",
       " -0.6830968447064438,\n",
       " -0.663294217410264,\n",
       " -0.6438761315531625,\n",
       " -0.624827936582468,\n",
       " -0.6061358035703154,\n",
       " -0.587786664902119,\n",
       " -0.5697681593994406,\n",
       " -0.5520685823000397,\n",
       " -0.5346768395881706,\n",
       " -0.5175824062288704,\n",
       " -0.5007752879124893,\n",
       " -0.48424598596127855,\n",
       " -0.4679854650894983,\n",
       " -0.4519851237430571,\n",
       " -0.43623676677491796,\n",
       " -0.4207325802389528,\n",
       " -0.4054651081081643,\n",
       " -0.39042723074362384,\n",
       " -0.3756121449584831,\n",
       " -0.3610133455373305,\n",
       " -0.34662460808523077,\n",
       " -0.3324399730932744,\n",
       " -0.3184537311185346,\n",
       " -0.30466040898619867,\n",
       " -0.2910547569304201,\n",
       " -0.27763173659827933,\n",
       " -0.2643865098482588,\n",
       " -0.25131442828090605,\n",
       " -0.2384110234449981,\n",
       " -0.2256719976675684,\n",
       " -0.2130932154607082,\n",
       " -0.2006706954621511,\n",
       " -0.18840060287033666,\n",
       " -0.17627924233799191,\n",
       " -0.1643030512912763,\n",
       " -0.15246859364427337,\n",
       " -0.14077255388108215,\n",
       " -0.1292117314800061,\n",
       " -0.11778303565638339,\n",
       " -0.10648348040244995,\n",
       " -0.09531017980432477,\n",
       " -0.08426034361773985,\n",
       " -0.07333127308554951,\n",
       " -0.06252035698133393,\n",
       " -0.051825067864585905,\n",
       " -0.041242958534049017,\n",
       " -0.03077165866675366,\n",
       " -0.020408871631207012,\n",
       " -0.010152371464017962,\n",
       " -1.0000000100247594e-08]"
      ]
     },
     "execution_count": 10,
     "metadata": {},
     "output_type": "execute_result"
    }
   ],
   "source": [
    "loss_sim"
   ]
  },
  {
   "cell_type": "code",
   "execution_count": null,
   "id": "57025281",
   "metadata": {},
   "outputs": [],
   "source": []
  }
 ],
 "metadata": {
  "kernelspec": {
   "display_name": "Python 3 (ipykernel)",
   "language": "python",
   "name": "python3"
  },
  "language_info": {
   "codemirror_mode": {
    "name": "ipython",
    "version": 3
   },
   "file_extension": ".py",
   "mimetype": "text/x-python",
   "name": "python",
   "nbconvert_exporter": "python",
   "pygments_lexer": "ipython3",
   "version": "3.10.8"
  }
 },
 "nbformat": 4,
 "nbformat_minor": 5
}
